{
 "cells": [
  {
   "cell_type": "markdown",
   "metadata": {},
   "source": [
    "# Utilisation du registre MLFlow"
   ]
  },
  {
   "cell_type": "markdown",
   "metadata": {},
   "source": [
    "En utilisant l'API MLFlow, effectuez les tâches suivantes sur le registre de modèles.\n",
    "\n",
    "Au préalable, il faut définir les informations de connexion comme on a pu le faire dans `creds.env`.\n",
    "\n",
    "Remplacez ci-dessous les valeurs `username` et `password`."
   ]
  },
  {
   "cell_type": "code",
   "execution_count": null,
   "metadata": {},
   "outputs": [],
   "source": [
    "%set_env MLFLOW_TRACKING_URI=https://dagshub.com/m09/landscape-classifier.mlflow\n",
    "%set_env MLFLOW_TRACKING_USERNAME=username\n",
    "%set_env MLFLOW_TRACKING_PASSWORD=password"
   ]
  },
  {
   "cell_type": "markdown",
   "metadata": {},
   "source": [
    "## Création d'un client MLFlow"
   ]
  },
  {
   "cell_type": "markdown",
   "metadata": {
    "vscode": {
     "languageId": "plaintext"
    }
   },
   "source": [
    "Créez un client MLFlow et affichez l'adresse de tracking pour vérifier qu'elle est bien récupérée depuis la variable d'environnement définie en haut du notebook."
   ]
  },
  {
   "cell_type": "code",
   "execution_count": null,
   "metadata": {},
   "outputs": [],
   "source": [
    "# Votre code ici"
   ]
  },
  {
   "cell_type": "markdown",
   "metadata": {},
   "source": [
    "### Solution"
   ]
  },
  {
   "cell_type": "code",
   "execution_count": 1,
   "metadata": {},
   "outputs": [
    {
     "data": {
      "text/plain": [
       "'file:///home/mog/repos/shuuchuu/landscape-classifier/mlruns'"
      ]
     },
     "execution_count": 1,
     "metadata": {},
     "output_type": "execute_result"
    }
   ],
   "source": [
    "import mlflow\n",
    "\n",
    "client = mlflow.client.MlflowClient()\n",
    "client.tracking_uri"
   ]
  },
  {
   "cell_type": "markdown",
   "metadata": {},
   "source": [
    "## Recherche de modèle"
   ]
  },
  {
   "cell_type": "markdown",
   "metadata": {},
   "source": [
    "Affichez tous les modèles enregistrés et pour chacun des modèles la version créée la plus récemment."
   ]
  },
  {
   "cell_type": "code",
   "execution_count": null,
   "metadata": {},
   "outputs": [],
   "source": [
    "# Votre code ici"
   ]
  },
  {
   "cell_type": "markdown",
   "metadata": {},
   "source": [
    "### Solution"
   ]
  },
  {
   "cell_type": "code",
   "execution_count": null,
   "metadata": {},
   "outputs": [],
   "source": [
    "def latest_version(latest_versions):\n",
    "  return sorted(latest_versions, key=lambda v: -v.creation_timestamp)[0].version\n",
    "\n",
    "\n",
    "for model in client.search_registered_models():\n",
    "  print(model.name, latest_version(model.latest_versions))"
   ]
  },
  {
   "cell_type": "markdown",
   "metadata": {},
   "source": [
    "## Récupération d'un modèle depuis le registre de modèle"
   ]
  },
  {
   "cell_type": "markdown",
   "metadata": {},
   "source": [
    "Maintenant que vous savez récupérer depuis Python le nom et la version des modèles présents sur le registre, récupérez en un et vérifiez que c'est bien l'objet que vous anticipez.\n",
    "\n",
    "Il y a plusieurs manières de charger un modèle si celui-ci dispose de plusieurs *flavors*. Qu'est-ce que cela change ?"
   ]
  },
  {
   "cell_type": "code",
   "execution_count": null,
   "metadata": {},
   "outputs": [],
   "source": [
    "# Votre code ici"
   ]
  },
  {
   "cell_type": "markdown",
   "metadata": {},
   "source": [
    "### Solution"
   ]
  },
  {
   "cell_type": "code",
   "execution_count": null,
   "metadata": {},
   "outputs": [],
   "source": [
    "import mlflow.keras\n",
    "\n",
    "\n",
    "def uri_from_name_and_version(name: str, version: str | int) -> str:\n",
    "  return f\"models:/{name}/{version}\"\n",
    "\n",
    "\n",
    "uri = uri_from_name_and_version(\"lenet-landscape-classifier\", 1)\n",
    "\n",
    "\n",
    "model_keras = mlflow.keras.load_model(model_uri=uri)\n",
    "model_keras.summary()\n",
    "model = mlflow.pyfunc.load_model(model_uri=uri)\n",
    "model"
   ]
  },
  {
   "cell_type": "markdown",
   "metadata": {},
   "source": [
    "## Ajout d'alias et d'étiquettes"
   ]
  },
  {
   "cell_type": "markdown",
   "metadata": {},
   "source": [
    "Les alias et les étiquettes (tags) permettent d'organiser les modèles dans le registre de modèles MLFLow. Les alias ciblent forcément une version en particulier alors que les étiquettes peuvent aussi cibler toutes les versions d'un modèle.\n",
    "\n",
    "Ajoutez un alias `champion` à la dernière version de votre modèle, un tag `domain` à la valeur `cv` pour votre modèle et un tag `size` à la valeur `small` pour la dernière version de votre modèle."
   ]
  },
  {
   "cell_type": "code",
   "execution_count": null,
   "metadata": {},
   "outputs": [],
   "source": [
    "# Votre code ici"
   ]
  },
  {
   "cell_type": "markdown",
   "metadata": {},
   "source": [
    "Récupérez maintenant votre modèle en utilisant l'alias plutôt que la version exacte."
   ]
  },
  {
   "cell_type": "markdown",
   "metadata": {},
   "source": [
    "### Solution"
   ]
  },
  {
   "cell_type": "code",
   "execution_count": null,
   "metadata": {},
   "outputs": [],
   "source": [
    "client.set_registered_model_alias(\"lenet-landscape-classifier\", \"champion\", \"1\")\n",
    "client.set_registered_model_tag(\"lenet-landscape-classifier\", \"domain\", \"cv\")\n",
    "client.set_model_version_tag(\"lenet-landscape-classifier\", \"1\", \"size\", \"small\")\n",
    "\n",
    "import mlflow.keras\n",
    "\n",
    "\n",
    "def uri_from_name_and_alias(name: str, alias: str | int) -> str:\n",
    "  return f\"models:/{name}@{alias}\"\n",
    "\n",
    "\n",
    "uri = uri_from_name_and_alias(\"lenet-landscape-classifier\", \"champion\")\n",
    "\n",
    "\n",
    "model_keras = mlflow.keras.load_model(model_uri=uri)\n",
    "model_keras.summary()"
   ]
  },
  {
   "cell_type": "markdown",
   "metadata": {},
   "source": [
    "## Changement de phase d'un modèle"
   ]
  },
  {
   "cell_type": "markdown",
   "metadata": {},
   "source": [
    "Quand vous souhaitez promouvoir un modèle dans votre chaine de mise en production, la méthode recommandée actuellement est de copier le modèle vers un nouveau nom de modèle.\n",
    "\n",
    "Copiez un modèle de votre choix vers un nouveau nom, qui sera l'ancien préfixé de `staging.`."
   ]
  },
  {
   "cell_type": "code",
   "execution_count": null,
   "metadata": {},
   "outputs": [],
   "source": [
    "# Votre code ici"
   ]
  },
  {
   "cell_type": "markdown",
   "metadata": {},
   "source": [
    "### Solution"
   ]
  },
  {
   "cell_type": "code",
   "execution_count": null,
   "metadata": {},
   "outputs": [],
   "source": [
    "client.copy_model_version(\n",
    "    src_model_uri=\"models:/lenet-landscape-classifier@champion\",\n",
    "    dst_name=\"staging.lenet-landscape-classifier\",\n",
    ")"
   ]
  }
 ],
 "metadata": {
  "kernelspec": {
   "display_name": ".venv",
   "language": "python",
   "name": "python3"
  },
  "language_info": {
   "codemirror_mode": {
    "name": "ipython",
    "version": 3
   },
   "file_extension": ".py",
   "mimetype": "text/x-python",
   "name": "python",
   "nbconvert_exporter": "python",
   "pygments_lexer": "ipython3",
   "version": "3.12.7"
  }
 },
 "nbformat": 4,
 "nbformat_minor": 2
}
